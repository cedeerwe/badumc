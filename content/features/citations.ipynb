{
 "cells": [
  {
   "cell_type": "markdown",
   "metadata": {},
   "source": [
    "# Including citations in your book"
   ]
  },
  {
   "cell_type": "markdown",
   "metadata": {},
   "source": [
    "Because `jupyter-book` is built on top of Jekyll, we can use the excellent\n",
    "[jekyll-scholar](https://github.com/inukshuk/jekyll-scholar) book to\n",
    "include citations and a bibliography with your book.\n",
    "\n",
    "**Note that this only works if you're building your book HTML locally and\n",
    "hosting the HTML files online somewhere**. This can still use GitHub pages, but\n",
    "not the auto-generation of a cite from markdown files feature of GitHub pages.\n",
    "This is because GitHub pages doesn't include the `jekyll-scholar` plugin.\n",
    "\n",
    "## How to use citations\n",
    "\n",
    "Including citations with your markdown files or notebooks is done in the following\n",
    "way.\n",
    "\n",
    "NO CITATIONS FOR GITHUB PAGES"
     ]
  },
  {
   "cell_type": "code",
   "execution_count": null,
   "metadata": {},
   "outputs": [],
   "source": []
  }
 ],
 "metadata": {
  "kernelspec": {
   "display_name": "Python 3",
   "language": "python",
   "name": "python3"
  },
  "language_info": {
   "codemirror_mode": {
    "name": "ipython",
    "version": 3
   },
   "file_extension": ".py",
   "mimetype": "text/x-python",
   "name": "python",
   "nbconvert_exporter": "python",
   "pygments_lexer": "ipython3",
   "version": "3.6.5"
  }
 },
 "nbformat": 4,
 "nbformat_minor": 2
}
